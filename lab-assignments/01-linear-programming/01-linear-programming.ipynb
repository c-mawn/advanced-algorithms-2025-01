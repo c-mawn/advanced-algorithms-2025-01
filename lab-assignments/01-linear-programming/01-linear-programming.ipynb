{
 "cells": [
  {
   "cell_type": "markdown",
   "id": "20f94e96",
   "metadata": {},
   "source": [
    "\n",
    "# Linear Programming Lab\n",
    "\n",
    "## Total: 40 points\n",
    "\n",
    "In this lab, you will explore a useful extension of linear programming duality (covered in class\n",
    "LP Day 1) called linear programming sensitivity analysis. Here, we aim to find:\n",
    "\n",
    "- How does the solution change when the objective function changes?\n",
    "- How does the solution change when the resource limits change?\n",
    "- How does the solution change when a constraint is added to the problem?\n",
    "\n",
    "One approach to these types of questions is solving lots of slightly different linear programming problems. This method would work, but it is inelegant and (for large problems) computationally expensive (but in most cases today, computation is cheap and computing solutions to many problems is a standard technique to study sensitivity in practice). However, there is a more elegant solution\n",
    "that gives these answers just by examining the dual information provided by the Simplex Algorithm.\n",
    "\n",
    "**Consider the following scenario:** An instrument company makes trombones and trumpets. A trombone requires 40 square inches of metal sheet and a trumpet requires 30 square inches of metal. Metal costs $1 per square inch and 40,000 square inches are available. It takes two hours of skilled labor to make a novice quality trombone or a novice quality trumpet. Three more hours of skilled labor will turn a novice quality trombone into a professional trombone. Two more hours of skilled labor will turn a novice quality trumpet into a professional trumpet. There are 6000 hours of skilled labor available. Assume that you do not need to pay for labor. Assume that you can sell fractional trombones and trumpets. The market selling prices and production costs are given in the following table:\n",
    "\n",
    "| Product    | Market Price | Cost (metal $1/sq.in.) |\n",
    "| -------- | ------- | ------- |\n",
    "| Novice Trombone | $70 | $40 |\n",
    "| Professional Trombone | $140 | $40 |\n",
    "| Novice Trumpet | $60 | $30 |\n",
    "| Professional Trumpet | $110 | $30 |\n",
    "\n",
    "---\n"
   ]
  },
  {
   "cell_type": "markdown",
   "id": "8c34dead",
   "metadata": {},
   "source": [
    "# Problem 1: Formulate the LP (5 points)\n",
    "## 1a: Set up the LP (3 points)\n",
    "\n",
    "Write an objective function that maximizes profits (market price - production\n",
    "costs) and all constraints.\n",
    "\n",
    "### Instructions\n",
    "- Write the equations, using LaTeX, between the $$ tags. Then convert the LP problem into code by referring to this documentation: [PuLP Guide](https://realpython.com/linear-programming-python/#using-pulp)"
   ]
  },
  {
   "cell_type": "markdown",
   "id": "c30746dd",
   "metadata": {},
   "source": [
    "### Solution:\n",
    "Objective Function: $$ Z = (70x_{1} + 140x_{2} + 60x_{3} + 110x_{4}) - (40x_{1} + 40x_{2} + 30x_{3} + 30x_{4}) $$\n",
    "Constraints:\n",
    "- Metal usage constraint: $$ 40x_{1} + 40x_{2} + 30x_{3} + 30x_{4} \\leq 40000 $$\n",
    "- Labor usage constraint: $$ 2x_{1} + 5x_{2} + 2x_{3} + 4x_{4} \\leq 6000 $$\n",
    "- Non-negativity constraint: $$ x_{1} , x_{2} , x_{3} , x_{4} \\geq 0 $$"
   ]
  },
  {
   "cell_type": "code",
   "execution_count": 1,
   "id": "592d8519",
   "metadata": {},
   "outputs": [],
   "source": [
    "from pulp import LpMaximize, LpProblem, LpVariable, LpStatus, PULP_CBC_CMD\n",
    "import copy\n",
    "\n",
    "# Define the problem\n",
    "main_model = LpProblem(name=\"instrument-production\", sense=LpMaximize) # (please do not rename this variable as it's used later in the notebook)\n",
    "\n",
    "# Define variables\n",
    "x1 = LpVariable(name=\"x1\", lowBound=0)  # Novice Trombone\n",
    "x2 = LpVariable(name=\"x2\", lowBound=0)  # Professional Trombone\n",
    "x3 = LpVariable(name=\"x3\", lowBound=0)  # Novice Trumpet\n",
    "x4 = LpVariable(name=\"x4\", lowBound=0)  # Professional Trumpet\n",
    "\n",
    "# Objective function\n",
    "# TODO: Add objective function\n",
    "main_model += (30 * x1) + (100 * x2) + (30 * x3) + (80 * x4)\n",
    "\n",
    "# Constraints\n",
    "# 1. Total metal sheet used\n",
    "# TODO: Add constraint\n",
    "main_model += (((40 * x1) + (40 * x2) + (30 * x3) + (30 * x4)) <= 40000, \"Metal_Sheet_Constraint\")\n",
    "# 2. Total skilled labor hours used\n",
    "# TODO: Add constraint\n",
    "main_model += (((2 * x1) + (5 * x2) + (2 * x3) + (4 * x4)) <= 6000, \"Hours Constraint\")\n",
    "# 3. Non-negativity constraints (already enforced by lowBound=0 in variable definition)"
   ]
  },
  {
   "cell_type": "markdown",
   "id": "e1fa5efc",
   "metadata": {},
   "source": [
    "## 1b) Solve the LP Computationally (1 point)\n",
    "Use the model we created above to find the optimal profit. Run the code block below to solve the problem."
   ]
  },
  {
   "cell_type": "markdown",
   "id": "b8ee79ad",
   "metadata": {},
   "source": [
    "### Solution:\n",
    "\n",
    "Optimal Profit: $106666.67"
   ]
  },
  {
   "cell_type": "code",
   "execution_count": 2,
   "id": "a1e36d90",
   "metadata": {},
   "outputs": [
    {
     "name": "stdout",
     "output_type": "stream",
     "text": [
      "Welcome to the CBC MILP Solver \n",
      "Version: 2.10.3 \n",
      "Build Date: Dec 15 2019 \n",
      "\n",
      "command line - /home/cmawn/.local/lib/python3.10/site-packages/pulp/solverdir/cbc/linux/64/cbc /tmp/5f23576023444dc6b906700c6ccdb9c8-pulp.mps -max -timeMode elapsed -branch -printingOptions all -solution /tmp/5f23576023444dc6b906700c6ccdb9c8-pulp.sol (default strategy 1)\n",
      "At line 2 NAME          MODEL\n",
      "At line 3 ROWS\n",
      "At line 7 COLUMNS\n",
      "At line 20 RHS\n",
      "At line 23 BOUNDS\n",
      "At line 24 ENDATA\n",
      "Problem MODEL has 2 rows, 4 columns and 8 elements\n",
      "Coin0008I MODEL read with 0 errors\n",
      "Option for timeMode changed from cpu to elapsed\n",
      "Presolve 2 (0) rows, 4 (0) columns and 8 (0) elements\n",
      "0  Obj -0 Dual inf 270 (4)\n",
      "0  Obj -0 Dual inf 270 (4)\n",
      "1  Obj 106666.67\n",
      "Optimal - objective value 106666.67\n",
      "Optimal objective 106666.6667 - 1 iterations time 0.002\n",
      "Option for printingOptions changed from normal to all\n",
      "Total time (CPU seconds):       0.00   (Wallclock seconds):       0.00\n",
      "\n"
     ]
    },
    {
     "data": {
      "text/plain": [
       "1"
      ]
     },
     "execution_count": 2,
     "metadata": {},
     "output_type": "execute_result"
    }
   ],
   "source": [
    "# Solve the problem\n",
    "main_model.solve()"
   ]
  },
  {
   "cell_type": "markdown",
   "id": "1bc7a7aa",
   "metadata": {},
   "source": [
    "## 1c.) What is the optimal number of each instrument to produce? (1 point)\n",
    "Run the code cell below to find the optimal value for each variable in the model. Fill in the table below.\n",
    "### Solution:\n",
    "\n",
    "| Variable    | Value |\n",
    "| -------- | ------- |\n",
    "| x1 | 0 |\n",
    "| x2 | 0 |\n",
    "| x3 | 0 |\n",
    "| x4 | 1333.3333 |"
   ]
  },
  {
   "cell_type": "code",
   "execution_count": 3,
   "id": "7997d85f",
   "metadata": {},
   "outputs": [
    {
     "name": "stdout",
     "output_type": "stream",
     "text": [
      "x1 0.0\n",
      "x2 0.0\n",
      "x3 0.0\n",
      "x4 1333.3333\n"
     ]
    }
   ],
   "source": [
    "for var in main_model.variables():\n",
    "    print(var.name, var.value())"
   ]
  },
  {
   "cell_type": "markdown",
   "id": "17cfb887",
   "metadata": {},
   "source": [
    "# Problem 2: Sensitivity of Novice Quality Trumpets (5 points)\n",
    "\n",
    "## 2a) (2 points)\n",
    "\n",
    "What would happen if the market price of novice quality trumpets went up? In other words, how much can the market price coefficient in the objective function change without causing the optimal basis to change? This is also called “allowable increase.” You are provided a helper function to find the allowable increase. Try messing with the parameters and looking at the source code in the `helpers.py` file to understand how it works."
   ]
  },
  {
   "cell_type": "markdown",
   "id": "ca1b30dd",
   "metadata": {},
   "source": [
    "### Solution:\n",
    "\n",
    "--- As the coefficient of x3 changes, the solution remains the same up until a certain point. In this problem, once the coefficient is increased by more than 50, the solution for the problem changed. This means that you can set the profit per novice trumpet up to $75 without changing the solution to maximizing profit.---"
   ]
  },
  {
   "cell_type": "code",
   "execution_count": 4,
   "id": "21680bc7",
   "metadata": {},
   "outputs": [
    {
     "name": "stdout",
     "output_type": "stream",
     "text": [
      "Iteration 1: Coefficient of x3: 30, Objective value: 106666.664, Solution: {'x1': 0.0, 'x2': 0.0, 'x3': 0.0, 'x4': 1333.3333}\n",
      "----------------------------------------\n",
      "Iteration 2: Coefficient of x3: 35, Objective value: 106666.664, Solution: {'x1': 0.0, 'x2': 0.0, 'x3': 0.0, 'x4': 1333.3333}\n",
      "----------------------------------------\n",
      "Iteration 3: Coefficient of x3: 40, Objective value: 106666.664, Solution: {'x1': 0.0, 'x2': 0.0, 'x3': 0.0, 'x4': 1333.3333}\n",
      "----------------------------------------\n",
      "Iteration 4: Coefficient of x3: 45, Objective value: 106666.664, Solution: {'x1': 0.0, 'x2': 0.0, 'x3': 0.0, 'x4': 1333.3333}\n",
      "----------------------------------------\n",
      "Iteration 5: Coefficient of x3: 50, Objective value: 106666.664, Solution: {'x1': 0.0, 'x2': 0.0, 'x3': 0.0, 'x4': 1333.3333}\n",
      "----------------------------------------\n",
      "Iteration 6: Coefficient of x3: 55, Objective value: 106666.664, Solution: {'x1': 0.0, 'x2': 0.0, 'x3': 0.0, 'x4': 1333.3333}\n",
      "----------------------------------------\n",
      "Iteration 7: Coefficient of x3: 60, Objective value: 106666.664, Solution: {'x1': 0.0, 'x2': 0.0, 'x3': 0.0, 'x4': 1333.3333}\n",
      "----------------------------------------\n",
      "Iteration 8: Coefficient of x3: 65, Objective value: 106666.664, Solution: {'x1': 0.0, 'x2': 0.0, 'x3': 0.0, 'x4': 1333.3333}\n",
      "----------------------------------------\n",
      "Iteration 9: Coefficient of x3: 70, Objective value: 106666.664, Solution: {'x1': 0.0, 'x2': 0.0, 'x3': 0.0, 'x4': 1333.3333}\n",
      "----------------------------------------\n",
      "Iteration 10: Coefficient of x3: 75, Objective value: 106666.664, Solution: {'x1': 0.0, 'x2': 0.0, 'x3': 0.0, 'x4': 1333.3333}\n",
      "----------------------------------------\n",
      "Iteration 11: Coefficient of x3: 80, Objective value: 106666.664, Solution: {'x1': 0.0, 'x2': 0.0, 'x3': 1333.3333, 'x4': 0.0}\n",
      "----------------------------------------\n",
      "Optimal basis changed at coefficient 80.\n",
      "\n",
      "The allowable increase for x3 is: 50\n"
     ]
    },
    {
     "name": "stderr",
     "output_type": "stream",
     "text": [
      "/home/cmawn/.local/lib/python3.10/site-packages/pulp/pulp.py:1650: UserWarning: Overwriting previously set objective.\n",
      "  warnings.warn(\"Overwriting previously set objective.\")\n"
     ]
    }
   ],
   "source": [
    "from helpers import find_allowable_increase\n",
    "# Run the helper to find the allowable increase for x3\n",
    "allowable_increase = find_allowable_increase(base_model=main_model, var_name=\"x3\", base_coef=30, step=5)\n",
    "\n",
    "print(f\"The allowable increase for x3 is: {allowable_increase}\")"
   ]
  },
  {
   "cell_type": "markdown",
   "id": "04e9faf4",
   "metadata": {},
   "source": [
    "## 2b) (2 points)\n",
    "Would novice trumpets be more profitable than professional trumpets to produce if novice trumpets sold for the same amount as professional quality trumpets?"
   ]
  },
  {
   "cell_type": "markdown",
   "id": "e5f111b0",
   "metadata": {},
   "source": [
    "### Solution:\n",
    "Yes. When the profit per novice trumpet is below 80, the most profitable solution is still professional trumptets. However, when the profit per novice trumpet ($x_{3}$) is equal to 80 (profit per professional trumpet) the most profitable solution is to sell novice trumpets."
   ]
  },
  {
   "cell_type": "markdown",
   "id": "f8ec6827",
   "metadata": {},
   "source": [
    "## 2c) (1 point)\n",
    "What would change if the price went down?"
   ]
  },
  {
   "cell_type": "markdown",
   "id": "44757e81",
   "metadata": {},
   "source": [
    "### Solution:\n",
    "If the sale price per novice trumpet went down, nothing would change. Since the optimal solution is selling only professional trumpets, reducing the price for other instruments dont matter. "
   ]
  },
  {
   "cell_type": "markdown",
   "id": "8eca32b7",
   "metadata": {},
   "source": [
    "# Problem 3: Sensitivity of Novice Quality Trombones (5 points)\n",
    "\n",
    "## 3a) (2 points)\n",
    "\n",
    "What would happen if the market price of novice quality trombones went up? In other words, what is the “allowable increase” in the market price of novice quality trombones?\n"
   ]
  },
  {
   "cell_type": "markdown",
   "id": "e8b6a92f",
   "metadata": {},
   "source": [
    "### Solution:\n",
    "the price of the novice trombones will only matter if the price changeis more than $77. Below that, the optimal solution is still using $x_{4}$ only, but past that, the optimal solution is using the novice trombones. "
   ]
  },
  {
   "cell_type": "code",
   "execution_count": 5,
   "id": "96bdc967",
   "metadata": {},
   "outputs": [
    {
     "name": "stdout",
     "output_type": "stream",
     "text": [
      "Optimal basis changed at coefficient 107.\n",
      "\n",
      "The allowable increase for x1 is: 77\n"
     ]
    }
   ],
   "source": [
    "from helpers import find_allowable_increase\n",
    "\n",
    "# setting verbose to False since we take smaller steps for this variable and don't want to print every iteration\n",
    "allowable_increase = find_allowable_increase(base_model=main_model, var_name=\"x1\", base_coef=30, step=1, max_iter=100, verbose=False)\n",
    "\n",
    "print(f\"The allowable increase for x1 is: {allowable_increase}\")"
   ]
  },
  {
   "cell_type": "markdown",
   "id": "6704a335",
   "metadata": {},
   "source": [
    "## 3b) (3 points)\n",
    "Would they be profitable to produce if they sold for the same amount as professional quality trombones? What would make them profitable to produce (intuitive explanation is expected, not specific numbers)?"
   ]
  },
  {
   "cell_type": "markdown",
   "id": "88a39c0e",
   "metadata": {},
   "source": [
    "### Solution:\n",
    "\n",
    "If the profit of the novice trombones is increased to $100, there will still be no trombones sold in the optimal solution. Since the increase needs to be at least $78 from the original $30 to make selling novice trombones optimal, changing the profit to $100 would not change the optimal solution at all. "
   ]
  },
  {
   "cell_type": "markdown",
   "id": "f37755c5",
   "metadata": {},
   "source": [
    "# Problem 4: Sensitivity of Professional Quality Trumpets (2 points)\n",
    "\n",
    "What would happen to the optimal solution if the price of professional quality trumpets fell to $100? If there is a change, what would the new production plan and optimal profit be?\n",
    "\n",
    "Provide your analysis and corresponding code below."
   ]
  },
  {
   "cell_type": "markdown",
   "id": "b360bf22",
   "metadata": {},
   "source": [
    "### Solution:\n",
    "\n",
    "If the price of the professional trumpets fell by $10, the optimal solution to the problem changes to be selling 1000 professional trombones. This changes the optimal profit to $100000."
   ]
  },
  {
   "cell_type": "code",
   "execution_count": 6,
   "id": "bec5fa2c",
   "metadata": {},
   "outputs": [
    {
     "name": "stdout",
     "output_type": "stream",
     "text": [
      "Sensitivity Analysis for Professional Quality Trumpets (Price = $100):\n",
      "Objective value (Profit): 100000.0\n",
      "x1: 0.0\n",
      "x2: 1000.0\n",
      "x3: 0.0\n",
      "x4: 0.0\n"
     ]
    }
   ],
   "source": [
    "low_trumpet_model = LpProblem(name=\"instrument-production\", sense=LpMaximize)\n",
    "\n",
    "# Define variables\n",
    "x1 = LpVariable(name=\"x1\", lowBound=0)  # Novice Trombone\n",
    "x2 = LpVariable(name=\"x2\", lowBound=0)  # Professional Trombone\n",
    "x3 = LpVariable(name=\"x3\", lowBound=0)  # Novice Trumpet\n",
    "x4 = LpVariable(name=\"x4\", lowBound=0)  # Professional Trumpet\n",
    "\n",
    "# TODO: Re-define Objective function\n",
    "low_trumpet_model += (30 * x1) + (100 * x2) + (30 * x3) + (70 * x4)\n",
    "\n",
    "# Constraints\n",
    "low_trumpet_model += 40 * x1 + 40 * x2 + 30 * x3 + 30 * x4 <= 40000, \"Metal Sheet Constraint\"\n",
    "low_trumpet_model += 2 * x1 + 5 * x2 + 2 * x3 + 4 * x4 <= 6000, \"Skilled Labor Constraint\"\n",
    "\n",
    "# Solve the low_trumpet_model\n",
    "low_trumpet_model.solve(PULP_CBC_CMD(msg=0))\n",
    "\n",
    "# Display results\n",
    "print(\"Sensitivity Analysis for Professional Quality Trumpets (Price = $100):\")\n",
    "print(f\"Objective value (Profit): {low_trumpet_model.objective.value()}\")\n",
    "for var in low_trumpet_model.variables():\n",
    "    print(f\"{var.name}: {var.value()}\")"
   ]
  },
  {
   "cell_type": "markdown",
   "metadata": {},
   "source": [
    "# Problem 5: Sensitivity of Metal Resources (8 points)\n",
    "\n",
    "## 5a) (4 points)\n",
    "How do production plans change when metal supplies change? At which point does metal stop being a limiting resource and how do you know?\n",
    "\n",
    "**HINT**: To find out how the production plans change when metal supplies change, you can use a **guess-and-check approach**. \n",
    "\n",
    "1. Start with the current RHS of the \"Metal Sheet Constraint\" (40,000 square inches).\n",
    "2. Gradually increase or decrease the RHS (e.g., by 1,000 or 5,000 units at a time).\n",
    "3. For each adjustment:\n",
    "   - Re-run to solve the problem and record the production plan (values of x_1, x_2, x_3, x_4) and the total profit.\n",
    "   - Compare the new solution to the original solution (at RHS = 40,000).\n",
    "4. Stop increasing when you notice the production plan has stopped changing. The last RHS value before the variable values stop changing is the **RHS Tolerance Upper Bound**.\n",
    "5. Stop decreasing when the model becomes infeasible. The last RHS value before the model becomes infeasible is the **RHS Tolerance Lower Bound**."
   ]
  },
  {
   "cell_type": "markdown",
   "id": "cb50a10c",
   "metadata": {},
   "source": [
    "### Solution:\n",
    "\n",
    "Metal stops being a limiting resource at 90000 square inches of supply. After that point, the amount of hours is the limiting factor. I can tell this because after setting the value to 90000, anything greater than that doesn't effect the production plan, and there is slack in the metal supply. "
   ]
  },
  {
   "cell_type": "code",
   "execution_count": 7,
   "id": "ebf988d0",
   "metadata": {},
   "outputs": [
    {
     "name": "stdout",
     "output_type": "stream",
     "text": [
      "Initial Solution:\n",
      "Total Profit: $106666.66\n",
      "Production Plan:\n",
      "  x1: 0.0\n",
      "  x2: 0.0\n",
      "  x3: 0.0\n",
      "  x4: 1333.3333\n",
      "\n",
      "Slack Values for Constraints:\n",
      "  Metal_Sheet_Constraint: RHS = -40000, slack = -0.0,\n",
      "  Hours_Constraint: RHS = -6000, slack = 666.6666999999998,\n",
      "---------------------------------------------\n",
      "After Adjusting Metal Sheet Constraint:\n",
      "Model Solution Status: Optimal\n",
      "Total Profit: $120000.00\n",
      "Production Plan:\n",
      "  x1: 0.0\n",
      "  x2: 0.0\n",
      "  x3: 0.0\n",
      "  x4: 1500.0\n",
      "\n",
      "Slack Values for Constraints:\n",
      "  Metal_Sheet_Constraint: RHS = -90000, slack = 45000.0\n",
      "  Hours_Constraint: RHS = -6000, slack = -0.0\n"
     ]
    }
   ],
   "source": [
    "rhs_tol_model = copy.deepcopy(main_model)\n",
    "\n",
    "\n",
    "# Print the results\n",
    "print(\"Initial Solution:\")\n",
    "print(f\"Total Profit: ${rhs_tol_model.objective.value():.2f}\")\n",
    "print(\"Production Plan:\")\n",
    "for var in rhs_tol_model.variables():\n",
    "    print(f\"  {var.name}: {var.varValue}\")\n",
    "\n",
    "# Check slack for each constraint\n",
    "print(\"\\nSlack Values for Constraints:\")\n",
    "for name, constraint in rhs_tol_model.constraints.items():\n",
    "    print(f\"  {name}: RHS = {constraint.constant}, slack = {constraint.slack},\")\n",
    "\n",
    "# ---------------------------------------------\n",
    "# Guess-and-Check Setup\n",
    "# ---------------------------------------------\n",
    "# Change the RHS of the \"Metal Sheet Constraint\" below and re-run this block of code.\n",
    "rhs_tol_model.constraints[\"Metal_Sheet_Constraint\"].changeRHS(90000)  # TODO: Change this value 90000\n",
    "\n",
    "print(\"---------------------------------------------\")\n",
    "print(\"After Adjusting Metal Sheet Constraint:\")\n",
    "\n",
    "# Re-solve the problem\n",
    "rhs_tol_model.solve(PULP_CBC_CMD(msg=0))\n",
    "print(f\"Model Solution Status: {LpStatus[rhs_tol_model.status]}\")\n",
    "\n",
    "# Print updated results\n",
    "print(f\"Total Profit: ${rhs_tol_model.objective.value():.2f}\")\n",
    "print(\"Production Plan:\")\n",
    "for var in rhs_tol_model.variables():\n",
    "    print(f\"  {var.name}: {var.varValue}\")\n",
    "\n",
    "# Check slack for each constraint\n",
    "print(\"\\nSlack Values for Constraints:\")\n",
    "for name, constraint in rhs_tol_model.constraints.items():\n",
    "    print(f\"  {name}: RHS = {constraint.constant}, slack = {constraint.slack}\")"
   ]
  },
  {
   "cell_type": "markdown",
   "id": "2f8cd676",
   "metadata": {},
   "source": [
    "## 5b) (4 points)\n",
    "**What is the shadow price of metal?**  \n",
    "1. Explain the concept of a shadow price in the context of the \"Metal Sheet Constraint\" and how it impacts the objective function (profit).  \n",
    "2. Using the shadow price, calculate how much the profit is expected to change if the metal supplies increase by 500 square inches.  \n",
    "3. Solve the problem again with the increased metal supplies and verify the expected profit change and the new production plan.\n",
    "\n",
    "Use the following formula for profit change:  \n",
    "$$ \\Delta profit = \\Delta \\text{metal supplies quantity} \\cdot dual_{metal} $$\n",
    "\n",
    "---\n",
    "\n",
    "### HINT\n",
    "\n",
    "1. **What is the Shadow Price?**  \n",
    "   The shadow price (also called the dual value) of a constraint tells you how much the objective value (profit) will change per unit increase in the RHS of the constraint, as long as the change is within the **RHS tolerance interval**.\n",
    "\n",
    "2. **How to Find the Shadow Price?**  \n",
    "   - Solve the LP model with the original RHS.\n",
    "   - Check the **dual value** (`constraint.pi`) of the \"Metal Sheet Constraint\" in the solver's output. This is the shadow price.\n",
    "\n",
    "3. **Useful Methods**\n",
    "   - Use `shadow_model.constraints[\"Metal_Sheet_Constraint\"].changeRHS(new_rhs)` to update the RHS of the \"Metal Sheet Constraint\""
   ]
  },
  {
   "cell_type": "markdown",
   "id": "149ba3eb",
   "metadata": {},
   "source": [
    "### Solution:\n",
    "\n",
    "1. In this context, the shadow price of the sheet metal constraint shows us how much the profit will change per unit increase in the amount of total metal we can use... within the tolerance interval\n",
    "2.  original profit is 106666.66, new profit is 108000. so change in profit is 1333.33\n",
    "shadow price is 2.6667, change in constraint is 500, 500*2.6667 = 1333\n",
    "3. \"It is the same!\" -  Anmol\n",
    "\n"
   ]
  },
  {
   "cell_type": "code",
   "execution_count": 8,
   "id": "2310a05f",
   "metadata": {},
   "outputs": [
    {
     "name": "stdout",
     "output_type": "stream",
     "text": [
      "Original Profit: 106666.66\n",
      "Shadow Price: 2.6666667\n",
      "New Results with Increased Metal Supply:\n",
      "New Profit: 106669.33600000001\n",
      "delta profit: 2.6666667\n",
      "Production Plan:\n",
      "  x1: 0.0\n",
      "  x2: 0.0\n",
      "  x3: 0.0\n",
      "  x4: 1333.3667\n"
     ]
    }
   ],
   "source": [
    "shadow_model = copy.deepcopy(main_model)\n",
    "\n",
    "# TODO: Solve the shadow price problem\n",
    "print(f\"Original Profit: {shadow_model.objective.value():.2f}\")\n",
    "# TODO: Update RHS\n",
    "shadow_model.constraints[\"Metal_Sheet_Constraint\"].changeRHS(40001)\n",
    "shadow_model.solve(PULP_CBC_CMD(msg=0))\n",
    "\n",
    "dual_metal = shadow_model.constraints[\"Metal_Sheet_Constraint\"].pi\n",
    "print(f\"Shadow Price: {dual_metal}\")\n",
    "# Display the new results\n",
    "print(\"New Results with Increased Metal Supply:\")\n",
    "print(f\"New Profit: {shadow_model.objective.value()}\")\n",
    "change_profit = 1 * dual_metal\n",
    "print(f\"delta profit: {change_profit}\")\n",
    "\n",
    "print(\"Production Plan:\")\n",
    "for var in shadow_model.variables():\n",
    "    print(f\"  {var.name}: {var.value()}\")\n"
   ]
  },
  {
   "cell_type": "markdown",
   "id": "adee66b0",
   "metadata": {},
   "source": [
    "# Problem 6: Sensitivity of Labor Resources (5 points)\n",
    "\n",
    "## 6a) (1 point)\n",
    "How much labor is unused?\n",
    "\n",
    "HINT: What is the slack?"
   ]
  },
  {
   "cell_type": "markdown",
   "id": "47c424cc",
   "metadata": {},
   "source": [
    "### Solution:\n",
    "There are 666ish hours of unused labor"
   ]
  },
  {
   "cell_type": "code",
   "execution_count": 9,
   "id": "9d739b21",
   "metadata": {},
   "outputs": [
    {
     "name": "stdout",
     "output_type": "stream",
     "text": [
      "Initial Solution:\n",
      "Total Profit: $106666.66\n",
      "Production Plan:\n",
      "  x1: 0.0\n",
      "  x2: 0.0\n",
      "  x3: 0.0\n",
      "  x4: 1333.3333\n",
      "\n",
      "Slack Values for Constraints:\n",
      "  Metal_Sheet_Constraint: RHS = -40000, slack = -0.0\n",
      "  Hours_Constraint: RHS = -6000, slack = 666.6666999999998\n"
     ]
    }
   ],
   "source": [
    "\n",
    "# Print the results\n",
    "print(\"Initial Solution:\")\n",
    "print(f\"Total Profit: ${main_model.objective.value():.2f}\")\n",
    "print(\"Production Plan:\")\n",
    "for var in main_model.variables():\n",
    "    print(f\"  {var.name}: {var.varValue}\")\n",
    "\n",
    "# Check slack for each constraint\n",
    "print(\"\\nSlack Values for Constraints:\")\n",
    "for name, constraint in main_model.constraints.items():\n",
    "    print(f\"  {name}: RHS = {constraint.constant}, slack = {constraint.slack}\")\n"
   ]
  },
  {
   "cell_type": "markdown",
   "id": "b90c54ba",
   "metadata": {},
   "source": [
    "## 6b) (2 points)\n",
    "How much would you be willing to pay an additional laborer?"
   ]
  },
  {
   "cell_type": "markdown",
   "id": "c4bdb9c6",
   "metadata": {},
   "source": [
    "### Solution:\n",
    "\n",
    "If we add a second laborer, I don't see how it would make a difference.Since the model is already constrained by the sheet metal, adding another laborer will not change the fact that sheet metal is the constraint. "
   ]
  },
  {
   "cell_type": "markdown",
   "id": "81eb7c5e",
   "metadata": {},
   "source": [
    "## 6c) (2 points)\n",
    "Suppose that industrial regulation complicate the process so it takes an additional hour of labor to turn a novice quality instrument into a professional quality instrument. How and why does that change affect the optimal production plan and profit?"
   ]
  },
  {
   "cell_type": "markdown",
   "id": "7c448e21",
   "metadata": {},
   "source": [
    "### Solution:\n",
    "\n",
    "Since we are updating the constraints, we need to update the model. Running the code below with the updated constraints (adding 1 to the coefficients of x2 and x4 in the labor constraint) we find that the new production plan is making 1000 professional trombones, with a total profit of $100000"
   ]
  },
  {
   "cell_type": "code",
   "execution_count": 10,
   "id": "b3a895b9",
   "metadata": {},
   "outputs": [
    {
     "name": "stdout",
     "output_type": "stream",
     "text": [
      "x1 0.0\n",
      "x2 1000.0\n",
      "x3 0.0\n",
      "x4 0.0\n",
      "Objective value (Profit): 100000.0\n"
     ]
    }
   ],
   "source": [
    "from pulp import LpMaximize, LpProblem, LpVariable, LpStatus, PULP_CBC_CMD\n",
    "import copy\n",
    "\n",
    "# Define the problem\n",
    "new_labor_model = LpProblem(name=\"instrument-production\", sense=LpMaximize) # (please do not rename this variable as it's used later in the notebook)\n",
    "\n",
    "# Define variables\n",
    "x1 = LpVariable(name=\"x1\", lowBound=0)  # Novice Trombone\n",
    "x2 = LpVariable(name=\"x2\", lowBound=0)  # Professional Trombone\n",
    "x3 = LpVariable(name=\"x3\", lowBound=0)  # Novice Trumpet\n",
    "x4 = LpVariable(name=\"x4\", lowBound=0)  # Professional Trumpet\n",
    "\n",
    "# Objective function\n",
    "# TODO: Add objective function\n",
    "new_labor_model += (30 * x1) + (100 * x2) + (30 * x3) + (80 * x4)\n",
    "\n",
    "# Constraints\n",
    "# 1. Total metal sheet used\n",
    "# TODO: Add constraint\n",
    "new_labor_model += (((40 * x1) + (40 * x2) + (30 * x3) + (30 * x4)) <= 40000, \"Metal_Sheet_Constraint\")\n",
    "# 2. Total skilled labor hours used\n",
    "# TODO: Add constraint\n",
    "new_labor_model += (((2 * x1) + (6 * x2) + (2 * x3) + (5 * x4)) <= 6000, \"Hours Constraint\")\n",
    "# 3. Non-negativity constraints (already enforced by lowBound=0 in variable definition)\n",
    "\n",
    "new_labor_model.solve(PULP_CBC_CMD(msg=0))\n",
    "for var in new_labor_model.variables():\n",
    "    print(var.name, var.value())\n",
    "print(f\"Objective value (Profit): {new_labor_model.objective.value()}\")\n"
   ]
  },
  {
   "cell_type": "markdown",
   "id": "b44af695",
   "metadata": {},
   "source": [
    "# Problem 7: Sensitivity of New Constraint (5 points)\n",
    "\n",
    "## 7a) (4 points)\n",
    "The owner of the company comes up with a design for a beautiful hand-crafted tuba. Each tuba requires 250 hours of labor (6.25 weeks of full time work) and uses 50 square inches of metal. If the\n",
    "company can sell tubas for $200, would it be worthwhile to produce? Use:\n",
    "$$ \\text{(marginal cost of metal)}_{tuba} = \\text{(metal used)}_{tuba} \\cdot dual_{metal} $$\n",
    "\n",
    "Discuss how looking at the shadow prices of metal and labor can help\n",
    "you intuit whether diverting metal resources to tuba production is a good idea. Check your intuition with the solver."
   ]
  },
  {
   "cell_type": "markdown",
   "id": "eb32cc6f",
   "metadata": {},
   "source": [
    "### Solution:\n",
    "\n",
    "By adding tubas into production, the shadow price of the metal has decreased. While the optimal profit has increased, it also means that using more metal in the future by relaxing the RHS of the sheet metal constraint will not give us as much of an increase in profit. "
   ]
  },
  {
   "cell_type": "code",
   "execution_count": 11,
   "id": "88769b7e",
   "metadata": {},
   "outputs": [
    {
     "name": "stdout",
     "output_type": "stream",
     "text": [
      "x1 0.0\n",
      "x2 0.0\n",
      "x3 0.0\n",
      "x4 1328.7671\n",
      "x5 2.739726\n",
      "Objective value (Profit): 106712.3269\n",
      "132.87671\n"
     ]
    }
   ],
   "source": [
    "from pulp import LpMaximize, LpProblem, LpVariable, value\n",
    "\n",
    "# Define the problem\n",
    "tuba_model = LpProblem(name=\"instrument-production\", sense=LpMaximize)\n",
    "\n",
    "# Define variables\n",
    "x1 = LpVariable(name=\"x1\", lowBound=0)  # Novice Trombone\n",
    "x2 = LpVariable(name=\"x2\", lowBound=0)  # Professional Trombone\n",
    "x3 = LpVariable(name=\"x3\", lowBound=0)  # Novice Trumpet\n",
    "x4 = LpVariable(name=\"x4\", lowBound=0)  # Professional Trumpet\n",
    "x5 = LpVariable(name=\"x5\", lowBound=0)  # Tubas\n",
    "\n",
    "# TODO: Define the problem and analyze the shadow prices\n",
    "tuba_model += (30 * x1) + (100 * x2) + (30 * x3) + (80 * x4) + (150 * x5)\n",
    "\n",
    "# Constraints\n",
    "# 1. Total metal sheet used\n",
    "# TODO: Add constraint\n",
    "tuba_model += (((40 * x1) + (40 * x2) + (30 * x3) + (30 * x4) + (50 * x5)) <= 40000, \"Metal_Sheet_Constraint\")\n",
    "# 2. Total skilled labor hours used\n",
    "# TODO: Add constraint\n",
    "tuba_model += (((2 * x1) + (5 * x2) + (2 * x3) + (4 * x4) + (250 * x5)) <= 6000, \"Hours Constraint\")\n",
    "\n",
    "tuba_model.solve(PULP_CBC_CMD(msg=0))\n",
    "for var in tuba_model.variables():\n",
    "    print(var.name, var.value())\n",
    "print(f\"Objective value (Profit): {tuba_model.objective.value()}\")\n",
    "marginal_metal_tuba = 50 * tuba_model.constraints[\"Metal_Sheet_Constraint\"].pi\n",
    "print(marginal_metal_tuba)\n"
   ]
  },
  {
   "cell_type": "markdown",
   "id": "d6cda587",
   "metadata": {},
   "source": [
    "## 7b) (1 point)\n",
    "Is it profitable if tubas sell for $150? Why?"
   ]
  },
  {
   "cell_type": "markdown",
   "id": "4aea90da",
   "metadata": {},
   "source": [
    "### Solution:\n",
    "\n",
    "No because after changing the profit per tuba, the production plan changed to selling no tubas. This means that it is not profitable to sell tubas at $150 each. Instead, it is more profitable to make and sell only professional trumpets. "
   ]
  },
  {
   "cell_type": "markdown",
   "id": "da67b98b",
   "metadata": {},
   "source": [
    "# Problem 8: Making Sense of the Dual Problem (5 points)\n",
    "\n",
    "## 8a) (3 points)\n",
    "Set up the original problem’s corresponding dual LP. Write an objective function that maximizes profits (market price - production costs) and all dual constraints."
   ]
  },
  {
   "cell_type": "code",
   "execution_count": 12,
   "id": "bacea266",
   "metadata": {},
   "outputs": [],
   "source": [
    "from pulp import LpMinimize, LpProblem, LpVariable\n",
    "\n",
    "# Define the dual problem\n",
    "dual_model = LpProblem(name=\"dual-instrument-production\", sense=LpMinimize)\n",
    "\n",
    "# TODO: Define the dual problem\n",
    "\n",
    "y1 = LpVariable(name=\"y1\", lowBound=0)  # marginal cost of metal\n",
    "y2 = LpVariable(name=\"y2\", lowBound=0)  # marginal cost of labor\n",
    "\n",
    "dual_model += (40000 * y1) + (6000 * y2)\n",
    "\n",
    "dual_model += (((40 * y1) + (2 * y2)) >= 30, \"Marginal Novice Trombone Cost\")\n",
    "dual_model += (((40 * y1) + (5 * y2)) >= 100, \"Marginal Professional Trombone Cost\")\n",
    "dual_model += (((30 * y1) + (2 * y2)) >= 30, \"Marginal Novice Trumpet Cost\")\n",
    "dual_model += (((30 * y1) + (4 * y2)) >= 80, \"Marginal Professional Trumpet Cost\")"
   ]
  },
  {
   "cell_type": "markdown",
   "id": "746316b3",
   "metadata": {},
   "source": [
    "## 8b) (1 point)\n",
    "Run the code block below to solve the problem. What is the optimal profit? Give a plot of the constraints (you can use this [example](https://github.com/hakeemrehman/Python-PuLP-/blob/master/LP%20Using%20PuLP%20and%20Graphical%20Sol..ipynb) for guidance)."
   ]
  },
  {
   "cell_type": "code",
   "execution_count": 13,
   "id": "8fc9d1fd",
   "metadata": {},
   "outputs": [
    {
     "name": "stdout",
     "output_type": "stream",
     "text": [
      "Dual Problem Results:\n",
      "Optimal Value (Total Resource Value): 106666.66799999999\n",
      "\n",
      "Slack Values for Constraints:\n",
      "  Marginal_Novice_Trombone_Cost: RHS = -30, slack = -76.66667\n",
      "  Marginal_Professional_Trombone_Cost: RHS = -100, slack = -6.666669999999996\n",
      "  Marginal_Novice_Trumpet_Cost: RHS = -30, slack = -50.0\n",
      "  Marginal_Professional_Trumpet_Cost: RHS = -80, slack = -0.0\n"
     ]
    }
   ],
   "source": [
    "# Solve the dual problem\n",
    "dual_model.solve(PULP_CBC_CMD(msg=0))\n",
    "\n",
    "# Display the results\n",
    "print(\"Dual Problem Results:\")\n",
    "print(f\"Optimal Value (Total Resource Value): {dual_model.objective.value()}\")\n",
    "print(\"\\nSlack Values for Constraints:\")\n",
    "for name, constraint in dual_model.constraints.items():\n",
    "    print(f\"  {name}: RHS = {constraint.constant}, slack = {constraint.slack}\")"
   ]
  },
  {
   "cell_type": "markdown",
   "id": "0043540e",
   "metadata": {},
   "source": [
    "## 8c) (1 point)\n",
    "Say something about the relationship between dual variables and slackness in the primal and dual problem."
   ]
  },
  {
   "cell_type": "markdown",
   "id": "d92f9648",
   "metadata": {},
   "source": [
    "### Solution:\n",
    "\n",
    "Idk what this is actually asking... and Anmol said to write about smth else:\n",
    "\n",
    "In the dual model, the slack of each of the constraints is representative of the allowable increase in the primal problem. "
   ]
  }
 ],
 "metadata": {
  "kernelspec": {
   "display_name": "venv",
   "language": "python",
   "name": "python3"
  },
  "language_info": {
   "codemirror_mode": {
    "name": "ipython",
    "version": 3
   },
   "file_extension": ".py",
   "mimetype": "text/x-python",
   "name": "python",
   "nbconvert_exporter": "python",
   "pygments_lexer": "ipython3",
   "version": "3.10.1"
  }
 },
 "nbformat": 4,
 "nbformat_minor": 5
}
